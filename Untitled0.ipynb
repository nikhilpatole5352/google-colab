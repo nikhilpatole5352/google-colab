{
  "nbformat": 4,
  "nbformat_minor": 0,
  "metadata": {
    "colab": {
      "provenance": [],
      "authorship_tag": "ABX9TyOULZL2OvCB4BqqMbGThAR+",
      "include_colab_link": true
    },
    "kernelspec": {
      "name": "python3",
      "display_name": "Python 3"
    },
    "language_info": {
      "name": "python"
    }
  },
  "cells": [
    {
      "cell_type": "markdown",
      "metadata": {
        "id": "view-in-github",
        "colab_type": "text"
      },
      "source": [
        "<a href=\"https://colab.research.google.com/github/nikhilpatole5352/google-colab/blob/main/Untitled0.ipynb\" target=\"_parent\"><img src=\"https://colab.research.google.com/assets/colab-badge.svg\" alt=\"Open In Colab\"/></a>"
      ]
    },
    {
      "cell_type": "code",
      "source": [
        "def fibonacci_series(n):\n",
        "    if n <= 0:\n",
        "        return []\n",
        "    elif n == 1:\n",
        "        return [0]\n",
        "    elif n == 2:\n",
        "        return [0, 1]\n",
        "\n",
        "    series = [0, 1]\n",
        "    for i in range(2, n):\n",
        "        series.append(series[-1] + series[-2])\n",
        "    return series\n",
        "\n",
        "# Example usage\n",
        "n = 10\n",
        "print(f\"Fibonacci series of {n} terms: {fibonacci_series(n)}\")\n"
      ],
      "metadata": {
        "colab": {
          "base_uri": "https://localhost:8080/"
        },
        "id": "zZ7mztDcvhL3",
        "outputId": "4335f9a4-6f29-47e9-af48-46759d3a3121"
      },
      "execution_count": 2,
      "outputs": [
        {
          "output_type": "stream",
          "name": "stdout",
          "text": [
            "Fibonacci series of 10 terms: [0, 1, 1, 2, 3, 5, 8, 13, 21, 34]\n"
          ]
        }
      ]
    },
    {
      "cell_type": "code",
      "source": [
        "from itertools import permutations\n",
        "\n",
        "# Distance matrix for the graph in the image\n",
        "# Each row and column represent cities 1, 2, 3, 4 respectively\n",
        "# For example, distance[0][1] is the distance from city 1 to city 2 (10).\n",
        "distance = [\n",
        "    [0, 10, 15, 20],  # Distances from city 1\n",
        "    [10, 0, 35, 25],  # Distances from city 2\n",
        "    [15, 35, 0, 30],  # Distances from city 3\n",
        "    [20, 25, 30, 0]   # Distances from city 4\n",
        "]\n",
        "\n",
        "# Number of cities\n",
        "num_cities = 4\n",
        "\n",
        "# Starting point (city 1, index 0)\n",
        "start = 0\n",
        "\n",
        "# Find the minimum cost path using brute force\n",
        "def traveling_salesman_problem(distance, start):\n",
        "    # Generate all possible permutations of cities, excluding the starting city\n",
        "    cities = list(range(num_cities))\n",
        "    cities.remove(start)\n",
        "    min_path_cost = float('inf')\n",
        "    best_path = []\n",
        "\n",
        "    # Evaluate each permutation\n",
        "    for perm in permutations(cities):\n",
        "        current_cost = 0\n",
        "        k = start\n",
        "\n",
        "        # Compute cost for current path\n",
        "        for j in perm:\n",
        "            current_cost += distance[k][j]\n",
        "            k = j\n",
        "        current_cost += distance[k][start]  # Return to starting city\n",
        "\n",
        "        # Update minimum cost and best path if found\n",
        "        if current_cost < min_path_cost:\n",
        "            min_path_cost = current_cost\n",
        "            best_path = [start] + list(perm) + [start]\n",
        "\n",
        "    return min_path_cost, best_path\n",
        "\n",
        "# Solve the problem\n",
        "min_cost, optimal_path = traveling_salesman_problem(distance, start)\n",
        "\n",
        "# Output the result\n",
        "print(f\"Minimum travel cost: {min_cost}\")\n",
        "print(f\"Optimal path: {['City ' + str(city + 1) for city in optimal_path]}\")\n"
      ],
      "metadata": {
        "colab": {
          "base_uri": "https://localhost:8080/"
        },
        "id": "e6xoiK_1wR7H",
        "outputId": "9395327b-32c3-4fcf-de8b-5b5436ffd3a5"
      },
      "execution_count": 3,
      "outputs": [
        {
          "output_type": "stream",
          "name": "stdout",
          "text": [
            "Minimum travel cost: 80\n",
            "Optimal path: ['City 1', 'City 2', 'City 4', 'City 3', 'City 1']\n"
          ]
        }
      ]
    },
    {
      "cell_type": "code",
      "source": [],
      "metadata": {
        "id": "tdONIoR7y8FZ"
      },
      "execution_count": null,
      "outputs": []
    }
  ]
}